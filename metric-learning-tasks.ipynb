{
 "cells": [
  {
   "cell_type": "markdown",
   "metadata": {},
   "source": [
    "# Домашнее задание 3 - Metric Learning\n",
    "<br>\n",
    "\n",
    "Задание выполнил(а): *(впишите свои фамилию и имя)*\n",
    "<br>\n",
    "\n",
    "**Дедлайн:** 08.12.2020 23:59\n",
    "\n",
    "\n",
    "### О задании\n",
    "В этом домашнем задании вы познакомитесь с возможностями SAS для реализации Metric Learning, обучите нейросеть в парадигме Metric Learning и используете ее результаты для классификации изображений.\n",
    "<br>\n",
    "\n",
    "**Задание построено следующим образом:**\n",
    "- Задание 1: Загрузка данных в CAS (1 балл)\n",
    "- Задание 2: Построение модели (2 балла)\n",
    "- Задание 3: Oбучение модели и проверка качества (2 балла)\n",
    "- Задание 4: Сохранение модели (1 балл)\n",
    "- Задание 5: Загрузка сохраненной модели и скоринг обучающей и тестовой выборок (3 балла)\n",
    "- Задание 6: Обучите KNeighborsClassifier на основе проскоренных данных (3 балла)\n",
    "- Задание 7: Визуализация выходов нейросети (3 балла)"
   ]
  },
  {
   "cell_type": "code",
   "execution_count": null,
   "metadata": {},
   "outputs": [],
   "source": [
    "import os\n",
    "import numpy as np\n",
    "import cv2\n",
    "from tqdm import tqdm\n",
    "import matplotlib.pyplot as plt\n",
    "%matplotlib inline\n",
    "\n",
    "from swat import *\n",
    "from dlpy import Model, Sequential\n",
    "from dlpy.layers import *\n",
    "from dlpy.images import ImageTable\n",
    "from swat import *\n",
    "from dlpy.images import *\n",
    "from dlpy.image_embedding import *\n",
    "from dlpy.embedding_model import EmbeddingModel\n",
    "\n",
    "import swat\n",
    "swat.options.cas.dataset.max_rows_fetched = 1000000"
   ]
  },
  {
   "cell_type": "markdown",
   "metadata": {},
   "source": [
    "**Подключение к серверу CAS**<br>\n",
    "Подключитесь к серверу CAS под своим логином и паролем.<br>\n",
    "Загрузите следующие Action Sets: 'image', 'deepLearn' и 'astore'.<br>"
   ]
  },
  {
   "cell_type": "code",
   "execution_count": null,
   "metadata": {},
   "outputs": [],
   "source": [
    "os.environ['CAS_CLIENT_SSL_CA_LIST'] = r\"/tmp/4fix/trustedcerts.pem\"\n",
    "\n",
    "# Создаем новую сессию CAS:\n",
    "\n",
    "# Ваш код здесь\n",
    "\n",
    "# Загружаем action sets:\n",
    "\n",
    "# Ваш код здесь"
   ]
  },
  {
   "cell_type": "markdown",
   "metadata": {},
   "source": [
    "**Задание 1: Загрузка данных в CAS**<br>\n",
    "Для обучения сетей Metric Learning используется отдельный класс CAS-таблиц - ImageEmbeddingTable. Прочитайте документацию к этому классу, загрузите обучающую выборку в CAS. Архитектура, которую мы будем использовать - triplet, количество наблюдений задайте в соответствии с количеством картинок в обучающей выборке. Проверьте, что данные загрузились и таблица не пустая. Выведите количество троек в полученной таблице с различными наборами классов."
   ]
  },
  {
   "cell_type": "code",
   "execution_count": null,
   "metadata": {},
   "outputs": [],
   "source": [
    "train_dir = #Путь к директории с обучающими данными\n",
    "train_table = ImageEmbeddingTable.load_files(s,"
   ]
  },
  {
   "cell_type": "code",
   "execution_count": null,
   "metadata": {
    "scrolled": true
   },
   "outputs": [],
   "source": [
    "# Проверьте что данные загрузились"
   ]
  },
  {
   "cell_type": "code",
   "execution_count": null,
   "metadata": {},
   "outputs": [],
   "source": [
    "# Выведите количество троек с различными наборами классов\n"
   ]
  },
  {
   "cell_type": "markdown",
   "metadata": {},
   "source": [
    "**Задание 2: Построение модели**<br>\n",
    "Постройте Sequential-модель, соответствующую изображенной на картинке, c помощью dlpy.\n",
    "![model](model.png)\n",
    "Создайте отдельно создайте полносвязный Embedding-слой размерностью 2 с функцией активации identity. Ознакомившись с докуметацией, создайте модель для Metric Learning с помощью метода build_embedding_model класса EmbeddingModel. Используйте архитектуру triplet, параметру margin задайте значение -3.0."
   ]
  },
  {
   "cell_type": "code",
   "execution_count": null,
   "metadata": {},
   "outputs": [],
   "source": [
    "# Постройте Sequential-модель"
   ]
  },
  {
   "cell_type": "code",
   "execution_count": null,
   "metadata": {},
   "outputs": [],
   "source": [
    "# Cоздайте полносвязный Embedding-слой\n",
    "embedding_layer = Dense("
   ]
  },
  {
   "cell_type": "code",
   "execution_count": null,
   "metadata": {},
   "outputs": [],
   "source": [
    "# Cоздайте модель для Metric Learning\n",
    "model_tr = EmbeddingModel.build_embedding_model("
   ]
  },
  {
   "cell_type": "markdown",
   "metadata": {},
   "source": [
    "**Задание 3: Oбучение модели и проверка качества**<br>\n",
    "а) Обучите построенную модель. Гиперпараметры для обучения уже заданы, менять их не требуется."
   ]
  },
  {
   "cell_type": "code",
   "execution_count": null,
   "metadata": {},
   "outputs": [],
   "source": [
    "from dlpy.model import Optimizer, MomentumSolver, AdamSolver\n",
    "from dlpy.lr_scheduler import *\n",
    "\n",
    "lr = 0.01\n",
    "\n",
    "solver = AdamSolver(lr_scheduler=StepLR(learning_rate=lr, step_size=30), clip_grad_max = 100, clip_grad_min = -100)\n",
    "optimizer = Optimizer(algorithm=solver, mini_batch_size=32, log_level=2, max_epochs=100, reg_l2=0.0001)"
   ]
  },
  {
   "cell_type": "code",
   "execution_count": null,
   "metadata": {},
   "outputs": [],
   "source": [
    "train_history = model_tr.fit_embedding_model(data=train_table, optimizer=optimizer, n_threads=4, seed=1234,record_seed=23435, train_from_scratch=True)"
   ]
  },
  {
   "cell_type": "markdown",
   "metadata": {},
   "source": [
    "б) Проверьте качество модели на обучающей выборке спомощью функции predict."
   ]
  },
  {
   "cell_type": "code",
   "execution_count": null,
   "metadata": {},
   "outputs": [],
   "source": [
    "model_tr.predict("
   ]
  },
  {
   "cell_type": "markdown",
   "metadata": {},
   "source": [
    "в) Выполните код в ячейке ниже - он подсчитает статистики по двум переменным - '\\_DL\\_Pred0\\_' и '\\_DL\\_Pred1\\_'. <br>\n",
    "\n",
    "Первая показывает полученное с помощью модели расстояние между первой картинкой в тройке (anchor) и второй картинкой в тройке, принадлежащей тому же классу, что и anchor. Переменная '\\_DL\\_Pred1\\_' показывает расстояние между anchor и третьей картинкой в тройке, принадлежащей к другому классу, отличному от класса anchor-картинки. <br>\n",
    "\n",
    "Логично, что если модель хорошо обучилась, расстояние между картинками одного класса должно быть меньше чем между картинками разных классов. Проверьте, для какого процента наблюдений в обучающей выборке выполняется неравенство \\_DL\\_Pred0\\_ < \\_DL\\_Pred1\\_."
   ]
  },
  {
   "cell_type": "code",
   "execution_count": null,
   "metadata": {},
   "outputs": [],
   "source": [
    "s.summary(table=model_tr.valid_res_tbl, inputs=['_DL_Pred0_', '_DL_Pred1_'])"
   ]
  },
  {
   "cell_type": "code",
   "execution_count": null,
   "metadata": {},
   "outputs": [],
   "source": [
    "# Проверьте, для какого процента наблюдений в обучающей выборке выполняется неравенство _DL_Pred0_ < _DL_Pred1_\n"
   ]
  },
  {
   "cell_type": "markdown",
   "metadata": {},
   "source": [
    "**Задание 4: Сохранение модели**\n",
    "Сохраните модель при помощи метода deploy_embedding_model класса EmbeddingModel в формате astore. Не нужно сохранять все три ветки модели - сохраните только одну."
   ]
  },
  {
   "cell_type": "code",
   "execution_count": null,
   "metadata": {},
   "outputs": [],
   "source": [
    "branch_model = model_tr.deploy_embedding_model("
   ]
  },
  {
   "cell_type": "markdown",
   "metadata": {},
   "source": [
    "**Задание 5: Загрузка сохраненной модели и скоринг обучающей и тестовой выборок**<br>\n",
    "а) Дополните код ниже, чтобы загрузить сохраненную модель. Затем загрузите две обычные ImageTable - с обучающей и тестовой выборкой."
   ]
  },
  {
   "cell_type": "code",
   "execution_count": null,
   "metadata": {},
   "outputs": [],
   "source": [
    "astore_path = #Путь к сохраненной в формате astore модель\n",
    "with open(astore_path, mode='rb') as file: \n",
    "    fileContent = file.read()    \n",
    "store_ = blob(fileContent)\n",
    "s.astore.upload("
   ]
  },
  {
   "cell_type": "code",
   "execution_count": null,
   "metadata": {},
   "outputs": [],
   "source": [
    "train_data = \n",
    "\n",
    "test_data = "
   ]
  },
  {
   "cell_type": "markdown",
   "metadata": {},
   "source": [
    "б) Проскорьте обучающие и тестовые данные с помощью action score. Сохраните результаты скоринга в два отдельных csv-файла."
   ]
  },
  {
   "cell_type": "code",
   "execution_count": null,
   "metadata": {},
   "outputs": [],
   "source": [
    "#Скоринг обучающих данных\n",
    "s.score("
   ]
  },
  {
   "cell_type": "code",
   "execution_count": null,
   "metadata": {},
   "outputs": [],
   "source": [
    "#Скоринг тестовых данных\n",
    "s.score("
   ]
  },
  {
   "cell_type": "markdown",
   "metadata": {},
   "source": [
    "**Задание 6: Обучите KNeighborsClassifier на основе проскоренных данных** <br>\n",
    "а) Загрузите сохраненные csv-файлы с помощью pandas. Удалите из наборов данных лишние переменные (с постфиксом \\_fake\\_output\\_). Выходы модели хранятся в переменных '\\_LayerAct\\_7_0\\_0\\_0\\_' и '\\_LayerAct\\_7\\_0\\_0\\_1\\_'. Для обоих наборов данных сохраните в отдельные переменные признаки (X) и целевую переменную(y). "
   ]
  },
  {
   "cell_type": "code",
   "execution_count": null,
   "metadata": {},
   "outputs": [],
   "source": [
    "# Загрузка данных..."
   ]
  },
  {
   "cell_type": "code",
   "execution_count": null,
   "metadata": {},
   "outputs": [],
   "source": [
    "X_train = \n",
    "y_train = \n",
    "\n",
    "X_test = \n",
    "y_test = "
   ]
  },
  {
   "cell_type": "markdown",
   "metadata": {},
   "source": [
    "б) Обучите KNeighborsClassifier из sklearn.neighbors на основе проскоренных нейросетевой моделью обучающих данных. Подберите количество ближайших соседей самостоятельно, чтобы получить как можно лучшее качество на тестовой выборке. Сравните получившееся качество классификации по accuracy_score с моделью, которую вы обучили в первом домашнем задании. Как вы думаете, от какого параметра в заданной нами нейросети в наибольшей степени зависит полученное качество?"
   ]
  },
  {
   "cell_type": "code",
   "execution_count": null,
   "metadata": {},
   "outputs": [],
   "source": [
    "# Создайте и обучите классификатор\n",
    "from sklearn.neighbors import KNeighborsClassifier\n",
    "knn = "
   ]
  },
  {
   "cell_type": "code",
   "execution_count": null,
   "metadata": {},
   "outputs": [],
   "source": [
    "# Проверьте качество модели\n",
    "from sklearn.metrics import accuracy_score\n"
   ]
  },
  {
   "cell_type": "markdown",
   "metadata": {},
   "source": [
    "**Задание 7: Визуализация выходов нейросети** <br>\n",
    "Постройте визуализации выходов модели с помощью matplotlib на обучающих и тестовых данных, аналогичную представленной на картинке.\n",
    "![vis](vis.PNG)"
   ]
  },
  {
   "cell_type": "code",
   "execution_count": null,
   "metadata": {},
   "outputs": [],
   "source": [
    "# Ваш код здесь"
   ]
  }
 ],
 "metadata": {
  "kernelspec": {
   "display_name": "Python 3",
   "language": "python",
   "name": "python3"
  },
  "language_info": {
   "codemirror_mode": {
    "name": "ipython",
    "version": 3
   },
   "file_extension": ".py",
   "mimetype": "text/x-python",
   "name": "python",
   "nbconvert_exporter": "python",
   "pygments_lexer": "ipython3",
   "version": "3.7.6"
  }
 },
 "nbformat": 4,
 "nbformat_minor": 4
}
